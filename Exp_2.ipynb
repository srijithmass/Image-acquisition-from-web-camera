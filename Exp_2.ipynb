{
 "cells": [
  {
   "cell_type": "code",
   "execution_count": 1,
   "id": "29e2b8d5-1e3a-492d-93e7-5a4de73a745c",
   "metadata": {},
   "outputs": [],
   "source": [
    "import cv2\n",
    "import numpy as np"
   ]
  },
  {
   "cell_type": "code",
   "execution_count": 2,
   "id": "af1d362c-1e72-42ba-bd5e-919d8f9fe0d5",
   "metadata": {},
   "outputs": [],
   "source": [
    "vidobj = cv2.VideoCapture(0)\n",
    "while(True):\n",
    "    ret,frame = vidobj.read()\n",
    "    cv2.imshow('video_image',frame)\n",
    "    #cv2.imwrite(\"capture.jpg\",frame)\n",
    "    if cv2.waitKey(1) == ord('q'):\n",
    "        break\n",
    "    result = False\n",
    "vidobj.release()\n",
    "cv2.destroyAllWindows()"
   ]
  },
  {
   "cell_type": "code",
   "execution_count": 3,
   "id": "4b07c570-cd17-489e-a8a7-54589f9785c5",
   "metadata": {},
   "outputs": [],
   "source": [
    "vidobj = cv2.VideoCapture(0)\n",
    "while(True):\n",
    "    ret,frame = vidobj.read()\n",
    "    cv2.imshow('video_image',frame)\n",
    "    cv2.imwrite(\"capture1.jpg\",frame)\n",
    "    if cv2.waitKey(1) == ord('q'):\n",
    "        break\n",
    "vidobj.release()\n",
    "cv2.destroyAllWindows()"
   ]
  },
  {
   "cell_type": "code",
   "execution_count": 11,
   "id": "61081a18-f459-4546-9b41-d243dfd63508",
   "metadata": {},
   "outputs": [],
   "source": [
    "vidobj = cv2.VideoCapture(0)\n",
    "while(True):\n",
    "    ret,frame=vidobj.read()\n",
    "    width = int(vidobj.get(3))\n",
    "    height = int(vidobj.get(4))\n",
    "    \n",
    "    image = np.zeros(frame.shape,np.uint8)\n",
    "    smallf = cv2.resize(frame,(0,0),fx=0.5,fy=0.5)\n",
    "    image[:height//2,:width//2] = smallf\n",
    "    image[height//2:,:width//2] = smallf\n",
    "    image[:height//2,width//2:] = smallf\n",
    "    image[height//2:,width//2:] = smallf\n",
    "    \n",
    "    cv2.imshow('quad_screen',image)\n",
    "    #cv2.imwrite(\"quad.jpg\",image)\n",
    "    if cv2.waitKey(1) == ord('q'):\n",
    "        break\n",
    "vidobj.release()\n",
    "cv2.destroyAllWindows()"
   ]
  },
  {
   "cell_type": "code",
   "execution_count": 12,
   "id": "436c8110-36f9-408a-91da-898365e99390",
   "metadata": {},
   "outputs": [],
   "source": [
    "vidobj = cv2.VideoCapture(0)\n",
    "while(True):\n",
    "    ret,frame=vidobj.read()\n",
    "    width = int(vidobj.get(3))\n",
    "    height = int(vidobj.get(4))\n",
    "    \n",
    "    image = np.zeros(frame.shape,np.uint8)\n",
    "    smallf = cv2.resize(frame,(0,0),fx=0.5,fy=0.5)\n",
    "    image[:height//2,:width//2] = cv2.rotate(smallf,cv2.ROTATE_180)\n",
    "    image[height//2:,:width//2] = smallf\n",
    "    image[:height//2,width//2:] = cv2.rotate(smallf,cv2.ROTATE_180)\n",
    "    image[height//2:,width//2:] = smallf\n",
    "    \n",
    "    cv2.imshow('quad_screen',image)\n",
    "    #cv2.imwrite(\"quad_r.jpg\",image)\n",
    "    if cv2.waitKey(1) == ord('q'):\n",
    "        break\n",
    "vidobj.release()\n",
    "cv2.destroyAllWindows()"
   ]
  },
  {
   "cell_type": "code",
   "execution_count": null,
   "id": "85a03310",
   "metadata": {},
   "outputs": [],
   "source": []
  }
 ],
 "metadata": {
  "kernelspec": {
   "display_name": "Python 3 (ipykernel)",
   "language": "python",
   "name": "python3"
  },
  "language_info": {
   "codemirror_mode": {
    "name": "ipython",
    "version": 3
   },
   "file_extension": ".py",
   "mimetype": "text/x-python",
   "name": "python",
   "nbconvert_exporter": "python",
   "pygments_lexer": "ipython3",
   "version": "3.9.13"
  }
 },
 "nbformat": 4,
 "nbformat_minor": 5
}
